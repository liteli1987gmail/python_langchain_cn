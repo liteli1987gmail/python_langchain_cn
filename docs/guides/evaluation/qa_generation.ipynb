{
 "cells": [
  {
   "cell_type": "markdown",
   "id": "ee2a3a21",
   "metadata": {},
   "source": [
    "# QA Generation\n",
    "This notebook shows how to use the `QAGenerationChain` to come up with question-answer pairs over a specific document.\n",
    "This is important because often times you may not have data to evaluate your question-answer system over, so this is a cheap and lightweight way to generate it!"
   ]
  },
  {
   "cell_type": "code",
   "execution_count": 1,
   "id": "33d3f0b4",
   "metadata": {},
   "outputs": [],
   "source": [
    "from langchain.document_loaders import TextLoader"
   ]
  },
  {
   "cell_type": "code",
   "execution_count": 2,
   "id": "2029a29c",
   "metadata": {},
   "outputs": [],
   "source": [
    "loader = TextLoader(\"../../modules/state_of_the_union.txt\")"
   ]
  },
  {
   "cell_type": "code",
   "execution_count": 3,
   "id": "87edb84c",
   "metadata": {},
   "outputs": [],
   "source": [
    "doc = loader.load()[0]"
   ]
  },
  {
   "cell_type": "code",
   "execution_count": 4,
   "id": "04125b6d",
   "metadata": {},
   "outputs": [],
   "source": [
    "from langchain.chat_models import ChatOpenAI\n",
    "from langchain.chains import QAGenerationChain\n",
    "\n",
    "chain = QAGenerationChain.from_llm(ChatOpenAI(temperature=0))"
   ]
  },
  {
   "cell_type": "code",
   "execution_count": 8,
   "id": "4f1593e4",
   "metadata": {},
   "outputs": [],
   "source": [
    "qa = chain.run(doc.page_content)"
   ]
  },
  {
   "cell_type": "code",
   "execution_count": 10,
   "id": "ee831f92",
   "metadata": {},
   "outputs": [
    {
     "data": {
      "text/plain": [
       "{'question': 'What is the U.S. Department of Justice doing to combat the crimes of Russian oligarchs?',\n",
       " 'answer': 'The U.S. Department of Justice is assembling a dedicated task force to go after the crimes of Russian oligarchs.'}"
      ]
     },
     "execution_count": 10,
     "metadata": {},
     "output_type": "execute_result"
    }
   ],
   "source": [
    "qa[1]"
   ]
  },
  {
   "cell_type": "code",
   "execution_count": null,
   "id": "7028754e",
   "metadata": {},
   "outputs": [],
   "source": []
  }
 ],
 "metadata": {
  "kernelspec": {
   "display_name": "Python 3 (ipykernel)",
   "language": "python",
   "name": "python3"
  },
  "language_info": {
   "codemirror_mode": {
    "name": "ipython",
    "version": 3
   },
   "file_extension": ".py",
   "mimetype": "text/x-python",
   "name": "python",
   "nbconvert_exporter": "python",
   "pygments_lexer": "ipython3",
   "version": "3.9.1"
  }
 },
 "nbformat": 4,
 "nbformat_minor": 5
}
